{
 "cells": [
  {
   "cell_type": "code",
   "execution_count": 2,
   "id": "ced7aa86-a25a-4673-9c76-b8003e4f3afb",
   "metadata": {},
   "outputs": [],
   "source": [
    "import numpy as np"
   ]
  },
  {
   "cell_type": "code",
   "execution_count": 4,
   "id": "76641d9e-41ab-44cc-8370-7e0a07a57a84",
   "metadata": {},
   "outputs": [
    {
     "data": {
      "text/plain": [
       "'2.2.1'"
      ]
     },
     "execution_count": 4,
     "metadata": {},
     "output_type": "execute_result"
    }
   ],
   "source": [
    "#print version of the libary\n",
    "np.__version__"
   ]
  },
  {
   "cell_type": "code",
   "execution_count": 7,
   "id": "e3b0b211-5af2-4ab9-8404-13afd0adcacc",
   "metadata": {},
   "outputs": [
    {
     "data": {
      "text/plain": [
       "array([1. , 2.2, 3.5, 4.1, 5.7])"
      ]
     },
     "execution_count": 7,
     "metadata": {},
     "output_type": "execute_result"
    }
   ],
   "source": [
    "#Methord 1 arry of float values\n",
    "arr=np.array([1.0,2.2,3.5,4.1,5.7])\n",
    "arr"
   ]
  },
  {
   "cell_type": "code",
   "execution_count": 8,
   "id": "8b4a8d2b-cd9d-4db3-a428-06f0fca85565",
   "metadata": {},
   "outputs": [
    {
     "data": {
      "text/plain": [
       "dtype('float64')"
      ]
     },
     "execution_count": 8,
     "metadata": {},
     "output_type": "execute_result"
    }
   ],
   "source": [
    "arr.dtype"
   ]
  },
  {
   "cell_type": "code",
   "execution_count": 10,
   "id": "d84ba820-5111-481b-98ee-b9f9ddbef47a",
   "metadata": {},
   "outputs": [],
   "source": [
    "#Methord 1 arry of integers\n",
    "arr=np.array([1,2,3,4,5])"
   ]
  },
  {
   "cell_type": "code",
   "execution_count": 11,
   "id": "814f613b-85d8-4073-85e0-629f99e3592b",
   "metadata": {},
   "outputs": [
    {
     "data": {
      "text/plain": [
       "np.int64(1)"
      ]
     },
     "execution_count": 11,
     "metadata": {},
     "output_type": "execute_result"
    }
   ],
   "source": [
    "#access arry element\n",
    "arr[0]"
   ]
  },
  {
   "cell_type": "code",
   "execution_count": 12,
   "id": "e5755094-6b90-4d87-ab7e-103ab070d5b0",
   "metadata": {},
   "outputs": [
    {
     "data": {
      "text/plain": [
       "dtype('int64')"
      ]
     },
     "execution_count": 12,
     "metadata": {},
     "output_type": "execute_result"
    }
   ],
   "source": [
    "#datatype of array\n",
    "arr.dtype"
   ]
  },
  {
   "cell_type": "code",
   "execution_count": 13,
   "id": "2614a1ed-50d8-40c2-80b7-aa6bf0efd10f",
   "metadata": {},
   "outputs": [
    {
     "data": {
      "text/plain": [
       "array([1., 2., 3., 4., 5.])"
      ]
     },
     "execution_count": 13,
     "metadata": {},
     "output_type": "execute_result"
    }
   ],
   "source": [
    "#convert int array into float\n",
    "arr=np.array(arr,dtype=np.float64)\n",
    "arr"
   ]
  },
  {
   "cell_type": "code",
   "execution_count": 14,
   "id": "e851688e-6023-4d22-b24a-132e9543666e",
   "metadata": {},
   "outputs": [
    {
     "data": {
      "text/plain": [
       "array([1., 2., 3.])"
      ]
     },
     "execution_count": 14,
     "metadata": {},
     "output_type": "execute_result"
    }
   ],
   "source": [
    "#slicing\n",
    "arr[0:3]"
   ]
  },
  {
   "cell_type": "code",
   "execution_count": 16,
   "id": "0f57c89b-8077-4e24-a99b-05e5bf8ccf52",
   "metadata": {},
   "outputs": [
    {
     "data": {
      "text/plain": [
       "array(['juet', 'guna', 'M.P'], dtype='<U4')"
      ]
     },
     "execution_count": 16,
     "metadata": {},
     "output_type": "execute_result"
    }
   ],
   "source": [
    "#array of objects\n",
    "arr=np.array(['juet','guna','M.P'])\n",
    "arr"
   ]
  },
  {
   "cell_type": "code",
   "execution_count": 17,
   "id": "efa2c79f-0332-43be-822b-eebc86f6f54b",
   "metadata": {},
   "outputs": [
    {
     "name": "stdout",
     "output_type": "stream",
     "text": [
      "5\n",
      "(5,)\n",
      "1\n"
     ]
    }
   ],
   "source": [
    "arr=np.array([1,2,3,4,5])\n",
    "#length of the array\n",
    "print(len(arr))\n",
    "#shape of array\n",
    "print(arr.shape)\n",
    "#dimentions of array\n",
    "print(arr.ndim)"
   ]
  },
  {
   "cell_type": "code",
   "execution_count": 18,
   "id": "4360626d-b41f-4281-b4b8-5efe75c26585",
   "metadata": {},
   "outputs": [
    {
     "name": "stdout",
     "output_type": "stream",
     "text": [
      "array contents \n",
      " [[1 2 3]\n",
      " [4 5 6]]\n",
      "length= 2\n",
      "shape= (2, 3)\n",
      "dimention= 2\n"
     ]
    }
   ],
   "source": [
    "#create 2D arry of matrix\n",
    "arr=np.array([[1,2,3],[4,5,6]])\n",
    "print('array contents \\n',arr)\n",
    "print('length=',len(arr))\n",
    "#shape of thwe array\n",
    "print('shape=',arr.shape)\n",
    "#dimentions of the array\n",
    "print('dimention=',arr.ndim)"
   ]
  },
  {
   "cell_type": "code",
   "execution_count": null,
   "id": "55694329-bf31-4aae-b1eb-662995dd6641",
   "metadata": {},
   "outputs": [],
   "source": []
  }
 ],
 "metadata": {
  "kernelspec": {
   "display_name": "Python 3 (ipykernel)",
   "language": "python",
   "name": "python3"
  },
  "language_info": {
   "codemirror_mode": {
    "name": "ipython",
    "version": 3
   },
   "file_extension": ".py",
   "mimetype": "text/x-python",
   "name": "python",
   "nbconvert_exporter": "python",
   "pygments_lexer": "ipython3",
   "version": "3.9.2"
  }
 },
 "nbformat": 4,
 "nbformat_minor": 5
}
