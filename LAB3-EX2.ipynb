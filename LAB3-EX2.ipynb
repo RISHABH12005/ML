{
 "cells": [
  {
   "cell_type": "code",
   "execution_count": 1,
   "id": "5a8082c2-7c50-48b9-a08a-0359f1f376e8",
   "metadata": {},
   "outputs": [],
   "source": [
    "import pandas as p"
   ]
  },
  {
   "cell_type": "code",
   "execution_count": 28,
   "id": "8f2fb2af-4470-4d22-b0b3-6c9a4b040d0a",
   "metadata": {},
   "outputs": [
    {
     "data": {
      "text/plain": [
       "0    1\n",
       "1    2\n",
       "2    3\n",
       "3    4\n",
       "4    5\n",
       "dtype: int64"
      ]
     },
     "execution_count": 28,
     "metadata": {},
     "output_type": "execute_result"
    }
   ],
   "source": [
    "# create a series\n",
    "a=p.Series([1,2,3,4,5])\n",
    "a"
   ]
  },
  {
   "cell_type": "code",
   "execution_count": 3,
   "id": "def65c7d-c9e9-416e-a409-b526263f6db8",
   "metadata": {},
   "outputs": [
    {
     "data": {
      "text/plain": [
       "RangeIndex(start=0, stop=5, step=1)"
      ]
     },
     "execution_count": 3,
     "metadata": {},
     "output_type": "execute_result"
    }
   ],
   "source": [
    "a.index"
   ]
  },
  {
   "cell_type": "code",
   "execution_count": 4,
   "id": "0baef861-f243-41b6-9236-47e9fca2803b",
   "metadata": {},
   "outputs": [
    {
     "data": {
      "text/plain": [
       "np.int64(2)"
      ]
     },
     "execution_count": 4,
     "metadata": {},
     "output_type": "execute_result"
    }
   ],
   "source": [
    "a[1]"
   ]
  },
  {
   "cell_type": "code",
   "execution_count": 5,
   "id": "8a1e4445-6a7d-4e98-b31c-6532d48b8807",
   "metadata": {},
   "outputs": [
    {
     "data": {
      "text/plain": [
       "a    1\n",
       "b    2\n",
       "c    3\n",
       "d    4\n",
       "e    5\n",
       "dtype: int64"
      ]
     },
     "execution_count": 5,
     "metadata": {},
     "output_type": "execute_result"
    }
   ],
   "source": [
    "# craete a series with custum index\n",
    "a=p.Series([1,2,3,4,5],index=['a','b','c','d','e'])\n",
    "a"
   ]
  },
  {
   "cell_type": "code",
   "execution_count": 6,
   "id": "b5628843-4f24-4a63-93d1-0165cd0f0cc4",
   "metadata": {},
   "outputs": [
    {
     "data": {
      "text/plain": [
       "Index(['a', 'b', 'c', 'd', 'e'], dtype='object')"
      ]
     },
     "execution_count": 6,
     "metadata": {},
     "output_type": "execute_result"
    }
   ],
   "source": [
    "a.index"
   ]
  },
  {
   "cell_type": "code",
   "execution_count": 7,
   "id": "a81c4adc-7515-4252-bfb3-69288f246e6b",
   "metadata": {},
   "outputs": [
    {
     "data": {
      "text/plain": [
       "np.int64(1)"
      ]
     },
     "execution_count": 7,
     "metadata": {},
     "output_type": "execute_result"
    }
   ],
   "source": [
    "a['a']"
   ]
  },
  {
   "cell_type": "code",
   "execution_count": 8,
   "id": "1daa7328-2393-453b-8d0b-0810f24f9567",
   "metadata": {},
   "outputs": [
    {
     "data": {
      "text/plain": [
       "{'monday': 123.34, 'thusday': 116, 'wednesday': 456.67}"
      ]
     },
     "execution_count": 8,
     "metadata": {},
     "output_type": "execute_result"
    }
   ],
   "source": [
    "# creating series from dictinary\n",
    "b={\"monday\":123.34,\"thusday\":234.56,\"wednesday\":456.67,\"thusday\":116}\n",
    "a=p.Series(b)\n",
    "b"
   ]
  },
  {
   "cell_type": "code",
   "execution_count": 9,
   "id": "13268f59-fb76-43a0-8bff-8d6f289138c9",
   "metadata": {},
   "outputs": [],
   "source": [
    "a=[\"wednesday\"]"
   ]
  },
  {
   "cell_type": "code",
   "execution_count": 10,
   "id": "065a8484-f3cf-4599-a2f7-60cc42a5ca58",
   "metadata": {},
   "outputs": [
    {
     "data": {
      "text/plain": [
       "0    12\n",
       "1    13\n",
       "2    14\n",
       "3    15\n",
       "4    16\n",
       "5    17\n",
       "6    18\n",
       "dtype: int64"
      ]
     },
     "execution_count": 10,
     "metadata": {},
     "output_type": "execute_result"
    }
   ],
   "source": [
    "# creating the series from numpy array\n",
    "import numpy as n\n",
    "c=n.array([12,13,14,15,16,17,18])\n",
    "a=p.Series(c)\n",
    "a"
   ]
  },
  {
   "cell_type": "code",
   "execution_count": 11,
   "id": "d35cabb5-ee8e-41b8-b4f9-c86f319c467e",
   "metadata": {},
   "outputs": [
    {
     "name": "stdout",
     "output_type": "stream",
     "text": [
      "a.count() = 7\n",
      "a.mean() = 15.0\n",
      "a.median() = 15.0\n",
      "a.max() = 18\n"
     ]
    }
   ],
   "source": [
    "print('a.count() =',a.count())\n",
    "print('a.mean() =',a.mean())\n",
    "print('a.median() =',a.median())\n",
    "print('a.max() =',a.max())"
   ]
  },
  {
   "cell_type": "code",
   "execution_count": 12,
   "id": "1b8aa8a0-2be4-4c78-ac7a-3436ed48a3c0",
   "metadata": {},
   "outputs": [
    {
     "data": {
      "text/plain": [
       "count     7.000000\n",
       "mean     15.000000\n",
       "std       2.160247\n",
       "min      12.000000\n",
       "25%      13.500000\n",
       "50%      15.000000\n",
       "75%      16.500000\n",
       "max      18.000000\n",
       "dtype: float64"
      ]
     },
     "execution_count": 12,
     "metadata": {},
     "output_type": "execute_result"
    }
   ],
   "source": [
    "a.describe()"
   ]
  },
  {
   "cell_type": "code",
   "execution_count": 13,
   "id": "3cb312ed-f2b8-4e00-97b0-ce1078c7d63c",
   "metadata": {},
   "outputs": [
    {
     "name": "stdout",
     "output_type": "stream",
     "text": [
      "a.argmin() = 0\n",
      "(a.argmax) 6\n",
      "a.argsort() =\n",
      "0    0\n",
      "1    1\n",
      "2    2\n",
      "3    3\n",
      "4    4\n",
      "5    5\n",
      "6    6\n",
      "dtype: int64\n"
     ]
    }
   ],
   "source": [
    "print('a.argmin() =',a.argmin())\n",
    "print('(a.argmax)',a.argmax())\n",
    "print('a.argsort() =')\n",
    "print(a.argsort())"
   ]
  },
  {
   "cell_type": "code",
   "execution_count": 14,
   "id": "a0d5853e-94f3-4a78-a1a6-cd6611117cdb",
   "metadata": {},
   "outputs": [
    {
     "data": {
      "text/plain": [
       "a   NaN\n",
       "b   NaN\n",
       "c   NaN\n",
       "d   NaN\n",
       "e   NaN\n",
       "f   NaN\n",
       "g   NaN\n",
       "dtype: float64"
      ]
     },
     "execution_count": 14,
     "metadata": {},
     "output_type": "execute_result"
    }
   ],
   "source": [
    "e={'a':10,'b':20,'c':5,'d':24,'e':17}\n",
    "a=p.Series(b,index=['a','b','c','d','e','f','g'])\n",
    "a"
   ]
  },
  {
   "cell_type": "code",
   "execution_count": 15,
   "id": "fe6b79fb-45e5-4c56-8323-ea7e6cb39cac",
   "metadata": {},
   "outputs": [
    {
     "name": "stdout",
     "output_type": "stream",
     "text": [
      "a    True\n",
      "b    True\n",
      "c    True\n",
      "d    True\n",
      "e    True\n",
      "f    True\n",
      "g    True\n",
      "dtype: bool\n",
      "-------------\n",
      "7\n",
      "----------------\n",
      "7\n"
     ]
    }
   ],
   "source": [
    "print(a.isna())\n",
    "print('-------------')\n",
    "print(a.isna().sum())\n",
    "print('----------------')\n",
    "print(a.isnull().sum())"
   ]
  },
  {
   "cell_type": "code",
   "execution_count": 16,
   "id": "f75e7b76-33c1-4006-8264-92150cad81b4",
   "metadata": {},
   "outputs": [
    {
     "data": {
      "text/plain": [
       "a    5.0\n",
       "b    5.0\n",
       "c    5.0\n",
       "d    5.0\n",
       "e    5.0\n",
       "f    5.0\n",
       "g    5.0\n",
       "dtype: float64"
      ]
     },
     "execution_count": 16,
     "metadata": {},
     "output_type": "execute_result"
    }
   ],
   "source": [
    "constant_value=5\n",
    "a.fillna(constant_value)"
   ]
  },
  {
   "cell_type": "code",
   "execution_count": 19,
   "id": "391d9aa3-a254-4b7e-91fa-bbfe395596d8",
   "metadata": {},
   "outputs": [
    {
     "name": "stdout",
     "output_type": "stream",
     "text": [
      "orignal\n",
      " a   NaN\n",
      "b   NaN\n",
      "c   NaN\n",
      "d   NaN\n",
      "e   NaN\n",
      "f   NaN\n",
      "g   NaN\n",
      "dtype: float64\n",
      "************\n",
      " a   NaN\n",
      "b   NaN\n",
      "c   NaN\n",
      "d   NaN\n",
      "e   NaN\n",
      "f   NaN\n",
      "g   NaN\n",
      "dtype: float64 \n",
      "***************\n",
      "filling limited values\n",
      "a   NaN\n",
      "b   NaN\n",
      "c   NaN\n",
      "d   NaN\n",
      "e   NaN\n",
      "f   NaN\n",
      "g   NaN\n",
      "dtype: float64\n"
     ]
    }
   ],
   "source": [
    "# forward filling\n",
    "print('orignal\\n',a)\n",
    "print('************\\n',a.ffill(),'\\n***************')\n",
    "print('filling limited values')\n",
    "print(a.ffill(limit=1))"
   ]
  },
  {
   "cell_type": "code",
   "execution_count": 20,
   "id": "5df7df3d-65ad-4189-a1bf-d2fbb984fd0a",
   "metadata": {},
   "outputs": [
    {
     "data": {
      "text/plain": [
       "a   NaN\n",
       "b   NaN\n",
       "c   NaN\n",
       "d   NaN\n",
       "e   NaN\n",
       "f   NaN\n",
       "g   NaN\n",
       "dtype: float64"
      ]
     },
     "execution_count": 20,
     "metadata": {},
     "output_type": "execute_result"
    }
   ],
   "source": [
    "a.bfill()"
   ]
  },
  {
   "cell_type": "code",
   "execution_count": 21,
   "id": "68ef6abb-69f3-4410-a1c8-f8f9185b356a",
   "metadata": {},
   "outputs": [
    {
     "data": {
      "text/plain": [
       "0    100.0\n",
       "1    100.0\n",
       "2      NaN\n",
       "3    330.0\n",
       "4    450.0\n",
       "dtype: float64"
      ]
     },
     "execution_count": 21,
     "metadata": {},
     "output_type": "execute_result"
    }
   ],
   "source": [
    "d={0:100,1:100,3:330,4:450}\n",
    "a2= p.Series(d,index=range(0,5))\n",
    "a2"
   ]
  },
  {
   "cell_type": "code",
   "execution_count": 22,
   "id": "eeb69cd9-b1d8-4c76-881e-1c5e0047f4e5",
   "metadata": {},
   "outputs": [
    {
     "data": {
      "text/plain": [
       "0    100.0\n",
       "1    100.0\n",
       "3    330.0\n",
       "4    450.0\n",
       "dtype: float64"
      ]
     },
     "execution_count": 22,
     "metadata": {},
     "output_type": "execute_result"
    }
   ],
   "source": [
    "a2.dropna()"
   ]
  },
  {
   "cell_type": "code",
   "execution_count": 24,
   "id": "1bf4e159-239b-4917-8003-b1237177fcb7",
   "metadata": {},
   "outputs": [
    {
     "data": {
      "text/plain": [
       "10     2\n",
       "20     2\n",
       "50     2\n",
       "60     2\n",
       "80     1\n",
       "100    1\n",
       "Name: count, dtype: int64"
      ]
     },
     "execution_count": 24,
     "metadata": {},
     "output_type": "execute_result"
    }
   ],
   "source": [
    "a=p.Series([10,20,10,20,50,60,50,80,60,100])\n",
    "a.value_counts()"
   ]
  },
  {
   "cell_type": "code",
   "execution_count": 31,
   "id": "ec25f4d7-d5b6-408c-87ba-854622e68c0a",
   "metadata": {},
   "outputs": [
    {
     "name": "stdout",
     "output_type": "stream",
     "text": [
      "0    [1, 2, 3]\n",
      "1    [4, 5, 6]\n",
      "2    [7, 8, 9]\n",
      "dtype: object\n"
     ]
    }
   ],
   "source": [
    "b=n.array([[1,2,3],[4,5,6],[7,8,9]])\n",
    "series=p.Series([[1,2,3],[4,5,6],[7,8,9]])\n",
    "print(series)"
   ]
  },
  {
   "cell_type": "code",
   "execution_count": 32,
   "id": "f0cda087-a183-490a-a35b-cd98470b249f",
   "metadata": {},
   "outputs": [
    {
     "name": "stdout",
     "output_type": "stream",
     "text": [
      "233B00     10\n",
      "2338601    20\n",
      "2336602    10\n",
      "2338603    15\n",
      "233B606    10\n",
      "233B607    20\n",
      "233B606    12\n",
      "233B607    18\n",
      "233B608    21\n",
      "233B609    22\n",
      "dtype: int64\n"
     ]
    }
   ],
   "source": [
    "ErNo=['233B00','2338601','2336602','2338603','233B606','233B607','233B606','233B607','233B608','233B609']\n",
    "marks=[10,20,10,15,10,20,12,18,21,22]\n",
    "series=p.Series(marks,index=ErNo)\n",
    "print(series)"
   ]
  },
  {
   "cell_type": "code",
   "execution_count": 36,
   "id": "1ca661ba-6f9a-4dc1-abfc-ba7e5c0cba94",
   "metadata": {},
   "outputs": [
    {
     "name": "stdout",
     "output_type": "stream",
     "text": [
      "233B00     10\n",
      "2338601    20\n",
      "2336602    10\n",
      "233B606    10\n",
      "233B607    20\n",
      "dtype: int64\n"
     ]
    }
   ],
   "source": [
    "same=series[series.duplicated(keep=False)]\n",
    "print(same)"
   ]
  },
  {
   "cell_type": "code",
   "execution_count": 37,
   "id": "9e875d17-4759-4134-9b37-5443663f15f5",
   "metadata": {},
   "outputs": [
    {
     "name": "stdout",
     "output_type": "stream",
     "text": [
      "['233B00', '2338601', '2336602', '2338603', '233B606', '233B607', '233B606', '233B607', '233B608', '233B609']\n"
     ]
    }
   ],
   "source": [
    "print(series[series>=10].index.tolist())"
   ]
  },
  {
   "cell_type": "code",
   "execution_count": 38,
   "id": "dc82c508-fd7c-4a3d-aae2-d7bbe83cc25a",
   "metadata": {},
   "outputs": [
    {
     "name": "stdout",
     "output_type": "stream",
     "text": [
      "['233B608', '233B609']\n"
     ]
    }
   ],
   "source": [
    "print(series[series>20].index.tolist())"
   ]
  },
  {
   "cell_type": "code",
   "execution_count": 39,
   "id": "b53c18d8-503e-4217-b037-ca78637d84f1",
   "metadata": {},
   "outputs": [
    {
     "name": "stdout",
     "output_type": "stream",
     "text": [
      "['2338603', '233B606', '233B607']\n"
     ]
    }
   ],
   "source": [
    "print(series[(series>10)&(series<20)].index.tolist())"
   ]
  },
  {
   "cell_type": "code",
   "execution_count": 40,
   "id": "b4ce3920-53b5-4e70-93ab-8a5c8010654b",
   "metadata": {},
   "outputs": [],
   "source": [
    "marks=p.Series({'Eng':95,'Phy':89,'Chem':92,'Math':95})"
   ]
  },
  {
   "cell_type": "code",
   "execution_count": 41,
   "id": "690d44d9-0eee-4e8c-9748-13d2012800aa",
   "metadata": {},
   "outputs": [
    {
     "name": "stdout",
     "output_type": "stream",
     "text": [
      "95\n"
     ]
    }
   ],
   "source": [
    "print(marks['Eng'])"
   ]
  },
  {
   "cell_type": "code",
   "execution_count": 42,
   "id": "789098e0-b9dd-4e06-baf1-a649d4be81fe",
   "metadata": {},
   "outputs": [
    {
     "name": "stdout",
     "output_type": "stream",
     "text": [
      "Eng     105\n",
      "Phy      99\n",
      "Chem    102\n",
      "Math    105\n",
      "dtype: int64\n"
     ]
    }
   ],
   "source": [
    "print(marks+10)"
   ]
  },
  {
   "cell_type": "code",
   "execution_count": null,
   "id": "0805e603-1bf6-49be-adcd-4757f7bc87e8",
   "metadata": {},
   "outputs": [],
   "source": []
  }
 ],
 "metadata": {
  "kernelspec": {
   "display_name": "Python 3 (ipykernel)",
   "language": "python",
   "name": "python3"
  },
  "language_info": {
   "codemirror_mode": {
    "name": "ipython",
    "version": 3
   },
   "file_extension": ".py",
   "mimetype": "text/x-python",
   "name": "python",
   "nbconvert_exporter": "python",
   "pygments_lexer": "ipython3",
   "version": "3.9.2"
  }
 },
 "nbformat": 4,
 "nbformat_minor": 5
}
