{
 "cells": [
  {
   "cell_type": "code",
   "execution_count": 1,
   "id": "894ce5f9-d6d3-491d-9211-d6ac1f543ded",
   "metadata": {},
   "outputs": [],
   "source": [
    "import numpy as n\n",
    "import pandas as p\n",
    "import matplotlib.pyplot as mp"
   ]
  },
  {
   "cell_type": "code",
   "execution_count": 3,
   "id": "6429d66d-f984-47b6-a0b1-4b6e13d4dae0",
   "metadata": {},
   "outputs": [
    {
     "data": {
      "text/plain": [
       "'2.0.2'"
      ]
     },
     "execution_count": 3,
     "metadata": {},
     "output_type": "execute_result"
    }
   ],
   "source": [
    "n.__version__"
   ]
  },
  {
   "cell_type": "code",
   "execution_count": 4,
   "id": "6c890c1f-6413-4a8e-9a41-59066315a50b",
   "metadata": {},
   "outputs": [
    {
     "data": {
      "text/plain": [
       "array([1, 2, 3, 4, 5, 6])"
      ]
     },
     "execution_count": 4,
     "metadata": {},
     "output_type": "execute_result"
    }
   ],
   "source": [
    "a=n.array([1,2,3,4,5,6])\n",
    "a"
   ]
  },
  {
   "cell_type": "code",
   "execution_count": 6,
   "id": "bf332701-404a-47a5-bc42-c41159e5a98d",
   "metadata": {},
   "outputs": [
    {
     "data": {
      "text/plain": [
       "dtype('int64')"
      ]
     },
     "execution_count": 6,
     "metadata": {},
     "output_type": "execute_result"
    }
   ],
   "source": [
    "a.dtype"
   ]
  },
  {
   "cell_type": "code",
   "execution_count": 7,
   "id": "c100688c-da52-4cb5-aeef-67132ae1924a",
   "metadata": {},
   "outputs": [
    {
     "data": {
      "text/plain": [
       "np.int64(1)"
      ]
     },
     "execution_count": 7,
     "metadata": {},
     "output_type": "execute_result"
    }
   ],
   "source": [
    "a[0]"
   ]
  },
  {
   "cell_type": "code",
   "execution_count": 8,
   "id": "c48735b3-3b63-4e1e-a871-af0b7afa8917",
   "metadata": {},
   "outputs": [
    {
     "data": {
      "text/plain": [
       "np.int64(6)"
      ]
     },
     "execution_count": 8,
     "metadata": {},
     "output_type": "execute_result"
    }
   ],
   "source": [
    "a[5]"
   ]
  },
  {
   "cell_type": "code",
   "execution_count": 10,
   "id": "77d05ff5-b95c-4497-bfc1-51f69392032b",
   "metadata": {},
   "outputs": [
    {
     "data": {
      "text/plain": [
       "array([1., 2., 3., 4., 5., 6.])"
      ]
     },
     "execution_count": 10,
     "metadata": {},
     "output_type": "execute_result"
    }
   ],
   "source": [
    "a=n.array(a,dtype=n.float64)\n",
    "a"
   ]
  },
  {
   "cell_type": "code",
   "execution_count": 11,
   "id": "d36a7ebf-aa65-407a-b018-76f3b7f49fd7",
   "metadata": {},
   "outputs": [
    {
     "data": {
      "text/plain": [
       "array([1., 2., 3.])"
      ]
     },
     "execution_count": 11,
     "metadata": {},
     "output_type": "execute_result"
    }
   ],
   "source": [
    "a[0:3]"
   ]
  },
  {
   "cell_type": "code",
   "execution_count": 12,
   "id": "3c9a54bc-7740-4e72-9a14-2f5ccf9ae708",
   "metadata": {},
   "outputs": [
    {
     "data": {
      "text/plain": [
       "array([2., 3.])"
      ]
     },
     "execution_count": 12,
     "metadata": {},
     "output_type": "execute_result"
    }
   ],
   "source": [
    "a[1:3]"
   ]
  },
  {
   "cell_type": "code",
   "execution_count": 13,
   "id": "1af7422e-4fc1-4500-924a-56a6573f8149",
   "metadata": {},
   "outputs": [
    {
     "name": "stdout",
     "output_type": "stream",
     "text": [
      "6\n"
     ]
    }
   ],
   "source": [
    "print(len(a))"
   ]
  },
  {
   "cell_type": "code",
   "execution_count": 15,
   "id": "7508cf26-815c-4ce7-855e-e8967b4944df",
   "metadata": {},
   "outputs": [
    {
     "name": "stdout",
     "output_type": "stream",
     "text": [
      "(6,)\n"
     ]
    }
   ],
   "source": [
    "print(a.shape)"
   ]
  },
  {
   "cell_type": "code",
   "execution_count": 16,
   "id": "684553f8-d76c-44af-98a4-ae2f3c4979ef",
   "metadata": {},
   "outputs": [
    {
     "name": "stdout",
     "output_type": "stream",
     "text": [
      "1\n"
     ]
    }
   ],
   "source": [
    "print(a.ndim)"
   ]
  },
  {
   "cell_type": "code",
   "execution_count": 19,
   "id": "8d5f7a0d-80d5-4d0d-bd97-2d3655864c6a",
   "metadata": {},
   "outputs": [
    {
     "name": "stdout",
     "output_type": "stream",
     "text": [
      "4\n",
      "(4, 2)\n",
      "2\n"
     ]
    }
   ],
   "source": [
    "a=n.array([[1,2],[3,5],[6,7],[8,9]])\n",
    "print(len(a))\n",
    "print(a.shape)\n",
    "print(a.ndim)"
   ]
  },
  {
   "cell_type": "code",
   "execution_count": 29,
   "id": "9c1362a0-b27d-484c-a5cb-202ece9f10bf",
   "metadata": {},
   "outputs": [
    {
     "data": {
      "text/plain": [
       "array([[1, 2, 3],\n",
       "       [4, 5, 6],\n",
       "       [7, 8, 9]])"
      ]
     },
     "execution_count": 29,
     "metadata": {},
     "output_type": "execute_result"
    }
   ],
   "source": [
    "b=n.array([1,2,3,4,5])\n",
    "b=n.arange(1,10).reshape(3,3)\n",
    "b"
   ]
  },
  {
   "cell_type": "code",
   "execution_count": 33,
   "id": "fe10830b-b64c-4f11-a8ea-216fd1581cc6",
   "metadata": {},
   "outputs": [],
   "source": [
    "a = n.arange(1, 10).reshape(3, 3)\n",
    "b = n.arange(10, 19).reshape(3, 3)"
   ]
  },
  {
   "cell_type": "code",
   "execution_count": 36,
   "id": "f1545e09-a241-4ae0-b6cd-3c50875839f8",
   "metadata": {},
   "outputs": [
    {
     "data": {
      "text/plain": [
       "array([[ 1,  2,  3],\n",
       "       [ 4,  5,  6],\n",
       "       [ 7,  8,  9],\n",
       "       [10, 13, 16],\n",
       "       [11, 14, 17],\n",
       "       [12, 15, 18]])"
      ]
     },
     "execution_count": 36,
     "metadata": {},
     "output_type": "execute_result"
    }
   ],
   "source": [
    "c=n.concatenate([a,b.T],axis=0)\n",
    "c"
   ]
  },
  {
   "cell_type": "code",
   "execution_count": 37,
   "id": "76cc8ae8-7eeb-405a-aa77-85a396cd7790",
   "metadata": {},
   "outputs": [
    {
     "data": {
      "text/plain": [
       "array([[1, 2, 3],\n",
       "       [4, 5, 6],\n",
       "       [7, 8, 9]])"
      ]
     },
     "execution_count": 37,
     "metadata": {},
     "output_type": "execute_result"
    }
   ],
   "source": [
    "a[:,:]"
   ]
  },
  {
   "cell_type": "code",
   "execution_count": 40,
   "id": "27d431d9-091b-4c2f-9013-95fcffe7bf70",
   "metadata": {},
   "outputs": [
    {
     "name": "stdout",
     "output_type": "stream",
     "text": [
      "[10 14 18]\n"
     ]
    },
    {
     "data": {
      "text/plain": [
       "array([[10, 11, 12],\n",
       "       [13, 14, 15],\n",
       "       [16, 17, 18]])"
      ]
     },
     "execution_count": 40,
     "metadata": {},
     "output_type": "execute_result"
    }
   ],
   "source": [
    "print(n.diag(b))\n",
    "b"
   ]
  },
  {
   "cell_type": "code",
   "execution_count": 41,
   "id": "5ccf9a18-c052-4a15-bc05-aa0689fbddde",
   "metadata": {},
   "outputs": [
    {
     "name": "stdout",
     "output_type": "stream",
     "text": [
      "[12 14 16]\n"
     ]
    }
   ],
   "source": [
    "print(n.diag(n.fliplr(b)))"
   ]
  },
  {
   "cell_type": "code",
   "execution_count": 42,
   "id": "9814a812-a808-46fb-ab96-6c89c51e8fd5",
   "metadata": {},
   "outputs": [
    {
     "name": "stdout",
     "output_type": "stream",
     "text": [
      "14.0\n"
     ]
    }
   ],
   "source": [
    "print(n.mean(b))"
   ]
  },
  {
   "cell_type": "code",
   "execution_count": 44,
   "id": "0028f091-a2fa-4e85-8e8a-05328317d69c",
   "metadata": {},
   "outputs": [
    {
     "name": "stdout",
     "output_type": "stream",
     "text": [
      "14.0\n"
     ]
    }
   ],
   "source": [
    "print(n.median(b))"
   ]
  },
  {
   "cell_type": "code",
   "execution_count": 46,
   "id": "0a2714c6-4c91-486e-910c-d18826d71cd5",
   "metadata": {},
   "outputs": [
    {
     "name": "stdout",
     "output_type": "stream",
     "text": [
      "1\n"
     ]
    }
   ],
   "source": [
    "print(n.min(a))"
   ]
  },
  {
   "cell_type": "code",
   "execution_count": 51,
   "id": "9485fd56-a290-4f76-8c4b-5d8d7a99a300",
   "metadata": {},
   "outputs": [
    {
     "name": "stdout",
     "output_type": "stream",
     "text": [
      "[[1 2 3]\n",
      " [4 5 6]\n",
      " [7 8 9]]\n",
      "[[10 11 12]\n",
      " [13 14 15]\n",
      " [16 17 18]]\n",
      "[[ 1  2  3]\n",
      " [ 4  5  6]\n",
      " [ 7  8  9]\n",
      " [10 13 16]\n",
      " [11 14 17]\n",
      " [12 15 18]]\n"
     ]
    }
   ],
   "source": [
    "print(a)\n",
    "print(b)\n",
    "print(c)"
   ]
  },
  {
   "cell_type": "code",
   "execution_count": 52,
   "id": "9217e287-5f95-42fc-8fc6-169c038b4278",
   "metadata": {},
   "outputs": [
    {
     "data": {
      "text/plain": [
       "(array([[1, 2, 3],\n",
       "        [4, 5, 6],\n",
       "        [7, 8, 9]]),\n",
       " array([[10, 11, 12],\n",
       "        [13, 14, 15],\n",
       "        [16, 17, 18]]),\n",
       " array([[ 1,  2,  3],\n",
       "        [ 4,  5,  6],\n",
       "        [ 7,  8,  9],\n",
       "        [10, 13, 16],\n",
       "        [11, 14, 17],\n",
       "        [12, 15, 18]]))"
      ]
     },
     "execution_count": 52,
     "metadata": {},
     "output_type": "execute_result"
    }
   ],
   "source": [
    "a, b, c "
   ]
  },
  {
   "cell_type": "code",
   "execution_count": 53,
   "id": "fc44f81c-5e3c-47da-913b-5df6ed212d07",
   "metadata": {},
   "outputs": [
    {
     "name": "stdout",
     "output_type": "stream",
     "text": [
      "1\n"
     ]
    }
   ],
   "source": [
    "print(n.min(a))"
   ]
  },
  {
   "cell_type": "code",
   "execution_count": 56,
   "id": "02d7cbe7-e7fd-4e73-8131-1b20e861bff8",
   "metadata": {},
   "outputs": [
    {
     "name": "stdout",
     "output_type": "stream",
     "text": [
      "9\n"
     ]
    }
   ],
   "source": [
    "print(n.max(a))"
   ]
  },
  {
   "cell_type": "code",
   "execution_count": 58,
   "id": "05a77932-ff46-4534-8e67-c1f707ff0e89",
   "metadata": {},
   "outputs": [
    {
     "name": "stdout",
     "output_type": "stream",
     "text": [
      "0\n"
     ]
    },
    {
     "data": {
      "text/plain": [
       "array([[10, 11, 12],\n",
       "       [13, 14, 15],\n",
       "       [16, 17, 18]])"
      ]
     },
     "execution_count": 58,
     "metadata": {},
     "output_type": "execute_result"
    }
   ],
   "source": [
    "print(n.argmin(b))\n",
    "b"
   ]
  },
  {
   "cell_type": "code",
   "execution_count": 59,
   "id": "7f22dc57-ca8e-46f4-8bcb-df24306b66e4",
   "metadata": {},
   "outputs": [
    {
     "name": "stdout",
     "output_type": "stream",
     "text": [
      "8\n"
     ]
    }
   ],
   "source": [
    "print(n.argmax(b))"
   ]
  },
  {
   "cell_type": "code",
   "execution_count": 60,
   "id": "2934051d-d0ab-409d-9117-07a9cd7bc98c",
   "metadata": {},
   "outputs": [
    {
     "name": "stdout",
     "output_type": "stream",
     "text": [
      "[[10 11 12]\n",
      " [13 14 15]\n",
      " [16 17 18]]\n"
     ]
    }
   ],
   "source": [
    "print(n.sort(b))"
   ]
  },
  {
   "cell_type": "code",
   "execution_count": 63,
   "id": "388e46b3-b318-4b68-9dd6-ef460a948dab",
   "metadata": {},
   "outputs": [
    {
     "name": "stdout",
     "output_type": "stream",
     "text": [
      "[[16 17 18]\n",
      " [13 14 15]\n",
      " [10 11 12]]\n"
     ]
    }
   ],
   "source": [
    "print(n.sort(b)[::-1])"
   ]
  },
  {
   "cell_type": "code",
   "execution_count": 65,
   "id": "1f7e2525-5181-49bd-a976-7009c88f964d",
   "metadata": {},
   "outputs": [
    {
     "name": "stdout",
     "output_type": "stream",
     "text": [
      "2.581988897471611\n"
     ]
    }
   ],
   "source": [
    "print(n.std(b))"
   ]
  },
  {
   "cell_type": "code",
   "execution_count": 67,
   "id": "f0c3a545-1644-4c1e-991e-6e16e4a38287",
   "metadata": {},
   "outputs": [
    {
     "name": "stdout",
     "output_type": "stream",
     "text": [
      "6.666666666666667\n"
     ]
    }
   ],
   "source": [
    "print(n.var(a))"
   ]
  },
  {
   "cell_type": "code",
   "execution_count": 69,
   "id": "6941f1f9-6601-4155-b641-264e4adc1d47",
   "metadata": {},
   "outputs": [
    {
     "data": {
      "text/plain": [
       "array(['RISHABH JAIN'], dtype='<U12')"
      ]
     },
     "execution_count": 69,
     "metadata": {},
     "output_type": "execute_result"
    }
   ],
   "source": [
    "d=n.array(['RISHABH JAIN'])\n",
    "d"
   ]
  },
  {
   "cell_type": "code",
   "execution_count": 71,
   "id": "1ffe3232-3c1f-418b-ad94-15b760f66cd9",
   "metadata": {},
   "outputs": [
    {
     "data": {
      "text/plain": [
       "dtype('<U12')"
      ]
     },
     "execution_count": 71,
     "metadata": {},
     "output_type": "execute_result"
    }
   ],
   "source": [
    "d.dtype"
   ]
  },
  {
   "cell_type": "code",
   "execution_count": 72,
   "id": "39b1b832-3da7-44af-a229-8d572f76c032",
   "metadata": {},
   "outputs": [
    {
     "data": {
      "text/plain": [
       "array([[11, 13, 15],\n",
       "       [17, 19, 21],\n",
       "       [23, 25, 27]])"
      ]
     },
     "execution_count": 72,
     "metadata": {},
     "output_type": "execute_result"
    }
   ],
   "source": [
    "e=a+b\n",
    "e"
   ]
  },
  {
   "cell_type": "code",
   "execution_count": 73,
   "id": "88f3c987-0220-4caf-9115-ae22bb867d5b",
   "metadata": {},
   "outputs": [
    {
     "data": {
      "text/plain": [
       "array([[41, 43, 45],\n",
       "       [47, 49, 51],\n",
       "       [53, 55, 57]])"
      ]
     },
     "execution_count": 73,
     "metadata": {},
     "output_type": "execute_result"
    }
   ],
   "source": [
    "e+30"
   ]
  },
  {
   "cell_type": "code",
   "execution_count": 83,
   "id": "f103c5af-6835-4da1-ae40-7f9448eb0e0f",
   "metadata": {},
   "outputs": [
    {
     "data": {
      "text/plain": [
       "array([ 0.,  2.,  4.,  6.,  8., 10.])"
      ]
     },
     "execution_count": 83,
     "metadata": {},
     "output_type": "execute_result"
    }
   ],
   "source": [
    "a=n.array([1,2,3,4,5,6])\n",
    "a\n",
    "a=n.linspace(0,10,6)\n",
    "a"
   ]
  },
  {
   "cell_type": "code",
   "execution_count": 85,
   "id": "d5e50bd5-c7c2-46c3-94f8-79a4123fbc2f",
   "metadata": {},
   "outputs": [
    {
     "data": {
      "text/plain": [
       "0    3\n",
       "1    4\n",
       "2    5\n",
       "3    6\n",
       "4    7\n",
       "dtype: int64"
      ]
     },
     "execution_count": 85,
     "metadata": {},
     "output_type": "execute_result"
    }
   ],
   "source": [
    "a=p.Series([3,4,5,6,7])\n",
    "a"
   ]
  },
  {
   "cell_type": "code",
   "execution_count": 87,
   "id": "06c1ed3d-1cca-456f-a0bf-a484940460d7",
   "metadata": {},
   "outputs": [
    {
     "data": {
      "text/plain": [
       "RangeIndex(start=0, stop=5, step=1)"
      ]
     },
     "execution_count": 87,
     "metadata": {},
     "output_type": "execute_result"
    }
   ],
   "source": [
    "a.index"
   ]
  },
  {
   "cell_type": "raw",
   "id": "fb3bd510-9182-4cb2-8953-e0d0097527ef",
   "metadata": {},
   "source": [
    "r={\"mon\":1}\n",
    "a="
   ]
  },
  {
   "cell_type": "code",
   "execution_count": null,
   "id": "dfb50af3-bee4-4c59-8671-ab199f9e7763",
   "metadata": {},
   "outputs": [],
   "source": []
  }
 ],
 "metadata": {
  "kernelspec": {
   "display_name": "Python 3 (ipykernel)",
   "language": "python",
   "name": "python3"
  },
  "language_info": {
   "codemirror_mode": {
    "name": "ipython",
    "version": 3
   },
   "file_extension": ".py",
   "mimetype": "text/x-python",
   "name": "python",
   "nbconvert_exporter": "python",
   "pygments_lexer": "ipython3",
   "version": "3.9.2"
  }
 },
 "nbformat": 4,
 "nbformat_minor": 5
}
