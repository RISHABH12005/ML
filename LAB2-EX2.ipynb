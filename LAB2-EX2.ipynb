{
 "cells": [
  {
   "cell_type": "code",
   "execution_count": 2,
   "id": "c927e5ad-3452-4caf-b45b-79df979e66c5",
   "metadata": {},
   "outputs": [],
   "source": [
    "import numpy as n"
   ]
  },
  {
   "cell_type": "code",
   "execution_count": 3,
   "id": "cb69755d-e628-462a-b4e6-1aca708468e2",
   "metadata": {},
   "outputs": [
    {
     "name": "stdout",
     "output_type": "stream",
     "text": [
      "mean= 147.0\n",
      "median= 150.0\n",
      "minimum= 130\n",
      "maximum= 165\n",
      "index of minimum = 0\n",
      "index of maximum = 1\n",
      "sorted array = [130 140 150 150 165] \n",
      "descending order [165 150 150 140 130]\n",
      "stdev 11.661903789690601\n",
      "variance 136.0\n"
     ]
    }
   ],
   "source": [
    "a=n.array([130,165,150,150,140])\n",
    "print('mean=',n.mean(a))\n",
    "print('median=',n.median(a))\n",
    "print('minimum=',n.min(a))\n",
    "print('maximum=',n.max(a))\n",
    "print('index of minimum =',n.argmin(a))\n",
    "print('index of maximum =',n.argmax(a))\n",
    "print('sorted array =',n.sort(a),'\\ndescending order',n.sort(a)[::-1]) #numpy does't support in desrcending order\n",
    "print('stdev',n.std(a))\n",
    "print('variance',n.var(a))"
   ]
  },
  {
   "cell_type": "code",
   "execution_count": 4,
   "id": "7cef39cc-eb6b-4c1f-86fc-a3daa1709b22",
   "metadata": {},
   "outputs": [
    {
     "name": "stdout",
     "output_type": "stream",
     "text": [
      "(array([], dtype=int64),)\n",
      "[]\n",
      "[]\n",
      "['Fail' 'Fail' 'Fail' 'Fail' 'Fail' 'Fail']\n"
     ]
    }
   ],
   "source": [
    "name=n.array(['Anil','Rohit','Dinesh','Mohit','Khushi','Deepti'])\n",
    "marks=n.array([12,23,34,45,56,67])\n",
    "x=n.where(marks>75)\n",
    "y=n.where((marks>75)&((marks<92)|(marks%2==1)))\n",
    "z=n.where((marks>75)&((marks<92)|(marks%2==1)),\"Pass\",\"Fail\")\n",
    "print(x)\n",
    "print(name[x])\n",
    "print(name[y])\n",
    "print(z)"
   ]
  },
  {
   "cell_type": "code",
   "execution_count": 5,
   "id": "db9cf1f5-2470-4a82-92d3-163b44f82d5d",
   "metadata": {},
   "outputs": [
    {
     "name": "stdout",
     "output_type": "stream",
     "text": [
      "[ 1  2  3  4  5 12  7 16  9]\n"
     ]
    }
   ],
   "source": [
    "a=n.array([1,2,3,4,5,6,7,8,9])\n",
    "condition1=a%2==0\n",
    "condition2=a>5\n",
    "filtered_a=n.where(condition1&condition2,a*2,a)\n",
    "print(filtered_a)"
   ]
  },
  {
   "cell_type": "code",
   "execution_count": 8,
   "id": "53b104fe-8d2e-4104-8a07-e67c1b62fb00",
   "metadata": {},
   "outputs": [
    {
     "name": "stdout",
     "output_type": "stream",
     "text": [
      "condition [array([False, False,  True,  True,  True]), array([ True,  True, False, False, False])]\n",
      "choices [array([1, 2, 3, 4, 5]), array([ 2,  4,  6,  8, 10])]\n",
      "result [2 4 3 4 5]\n"
     ]
    }
   ],
   "source": [
    "a1=n.array([1,2,3,4,5])\n",
    "a2=a1*2\n",
    "condition=[a1>2,a2<5]\n",
    "print('condition',condition)\n",
    "choices=[a1,a2]\n",
    "print('choices',choices)\n",
    "result=n.select(condition,choices,default=0)\n",
    "print('result',result)"
   ]
  },
  {
   "cell_type": "code",
   "execution_count": null,
   "id": "ce9ffdd9-030d-4ef5-90fa-e0fa5bd350d0",
   "metadata": {},
   "outputs": [],
   "source": []
  }
 ],
 "metadata": {
  "kernelspec": {
   "display_name": "Python 3 (ipykernel)",
   "language": "python",
   "name": "python3"
  },
  "language_info": {
   "codemirror_mode": {
    "name": "ipython",
    "version": 3
   },
   "file_extension": ".py",
   "mimetype": "text/x-python",
   "name": "python",
   "nbconvert_exporter": "python",
   "pygments_lexer": "ipython3",
   "version": "3.9.2"
  }
 },
 "nbformat": 4,
 "nbformat_minor": 5
}
