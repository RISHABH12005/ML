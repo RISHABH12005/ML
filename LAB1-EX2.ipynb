{
 "cells": [
  {
   "cell_type": "code",
   "execution_count": 5,
   "id": "abde1a16-5a62-4517-9a4e-c4a6d2cd4001",
   "metadata": {},
   "outputs": [],
   "source": [
    "import numpy as np"
   ]
  },
  {
   "cell_type": "code",
   "execution_count": 13,
   "id": "fa2d369a-4d13-490b-931c-361501768f22",
   "metadata": {},
   "outputs": [
    {
     "name": "stdout",
     "output_type": "stream",
     "text": [
      "[[[ 1  2]\n",
      "  [ 3  4]\n",
      "  [ 5  6]]\n",
      "\n",
      " [[ 7  8]\n",
      "  [ 9 10]\n",
      "  [11 12]]\n",
      "\n",
      " [[13 14]\n",
      "  [15 16]\n",
      "  [17 18]]]\n",
      "length= 3\n",
      "shape= (3, 3, 2)\n",
      "dimention= 3\n"
     ]
    }
   ],
   "source": [
    "arr=np.array([[[1,2],[3,4],[5,6]],[[7,8],[9,10],[11,12]],[[13,14],[15,16],[17,18]]])\n",
    "print(arr)\n",
    "print('length=',len(arr))\n",
    "print('shape=',arr.shape)\n",
    "print('dimention=',arr.ndim)"
   ]
  },
  {
   "cell_type": "code",
   "execution_count": 19,
   "id": "06eaa10f-e2ec-4b78-9a7c-0b168b7ed1b4",
   "metadata": {},
   "outputs": [
    {
     "name": "stdout",
     "output_type": "stream",
     "text": [
      "[[1 2]\n",
      " [3 4]\n",
      " [5 6]]\n",
      "length= 3\n",
      "shape= (3, 2)\n",
      "demention= 2\n"
     ]
    }
   ],
   "source": [
    "arr=np.array([[1,2],[3,4],[5,6]])\n",
    "print(arr)\n",
    "print('length=',len(arr))\n",
    "print('shape=',arr.shape)\n",
    "print('demention=',arr.ndim)"
   ]
  },
  {
   "cell_type": "code",
   "execution_count": 23,
   "id": "42ec2bce-8f5d-4945-9e22-6653e280e5a9",
   "metadata": {},
   "outputs": [
    {
     "name": "stdout",
     "output_type": "stream",
     "text": [
      "[1 2]\n",
      "length= 2\n",
      "shape= (2,)\n",
      "dimention= 1\n"
     ]
    }
   ],
   "source": [
    "arr=np.array([1,2])\n",
    "print(arr)\n",
    "print('length=',len(arr))\n",
    "print('shape=',arr.shape)\n",
    "print('dimention=',arr.ndim)"
   ]
  },
  {
   "cell_type": "code",
   "execution_count": null,
   "id": "074c25e6-8bb3-426c-a559-f301b448916b",
   "metadata": {},
   "outputs": [],
   "source": []
  }
 ],
 "metadata": {
  "kernelspec": {
   "display_name": "Python 3 (ipykernel)",
   "language": "python",
   "name": "python3"
  },
  "language_info": {
   "codemirror_mode": {
    "name": "ipython",
    "version": 3
   },
   "file_extension": ".py",
   "mimetype": "text/x-python",
   "name": "python",
   "nbconvert_exporter": "python",
   "pygments_lexer": "ipython3",
   "version": "3.9.2"
  }
 },
 "nbformat": 4,
 "nbformat_minor": 5
}
