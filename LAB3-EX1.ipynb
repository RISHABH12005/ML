{
 "cells": [
  {
   "cell_type": "code",
   "execution_count": 1,
   "id": "a6d0dae3-f45e-470f-a0cf-88616ed47d3f",
   "metadata": {},
   "outputs": [],
   "source": [
    "import numpy as n"
   ]
  },
  {
   "cell_type": "code",
   "execution_count": 4,
   "id": "421e75af-f7e9-4bc6-8a66-ed71278fa591",
   "metadata": {},
   "outputs": [
    {
     "data": {
      "text/plain": [
       "array([24, 36, 48, 60, 72, 84, 96])"
      ]
     },
     "execution_count": 4,
     "metadata": {},
     "output_type": "execute_result"
    }
   ],
   "source": [
    "marks=n.array([23,34,45,56,67,78,89])\n",
    "bonus=n.array([1,2,3,4,5,6,7])\n",
    "final_marks=marks+bonus\n",
    "final_marks"
   ]
  },
  {
   "cell_type": "code",
   "execution_count": 5,
   "id": "fd7ad90f-9c78-4c00-8899-52731dcc6614",
   "metadata": {},
   "outputs": [
    {
     "data": {
      "text/plain": [
       "array([ 7, 14, 21])"
      ]
     },
     "execution_count": 5,
     "metadata": {},
     "output_type": "execute_result"
    }
   ],
   "source": [
    "a=n.array([1,2,3])\n",
    "b=n.array([7])\n",
    "c=a*b #broadcast*operation\n",
    "c"
   ]
  },
  {
   "cell_type": "code",
   "execution_count": 7,
   "id": "7df270fd-b437-43b5-9c1b-6e13cc1c08e6",
   "metadata": {},
   "outputs": [
    {
     "name": "stdout",
     "output_type": "stream",
     "text": [
      "[14 15 16]\n",
      "[40 50 60]\n"
     ]
    }
   ],
   "source": [
    "a=n.array([4,5,6])\n",
    "b=a+10 #broadcast + operation\n",
    "print(b)\n",
    "c=a*10 #broadcast * operation\n",
    "print(c)"
   ]
  },
  {
   "cell_type": "code",
   "execution_count": 9,
   "id": "5575935f-aeb6-437b-b04e-630e0bb35192",
   "metadata": {},
   "outputs": [
    {
     "name": "stdout",
     "output_type": "stream",
     "text": [
      "[ 0.          0.20408163  0.40816327  0.6122449   0.81632653  1.02040816\n",
      "  1.2244898   1.42857143  1.63265306  1.83673469  2.04081633  2.24489796\n",
      "  2.44897959  2.65306122  2.85714286  3.06122449  3.26530612  3.46938776\n",
      "  3.67346939  3.87755102  4.08163265  4.28571429  4.48979592  4.69387755\n",
      "  4.89795918  5.10204082  5.30612245  5.51020408  5.71428571  5.91836735\n",
      "  6.12244898  6.32653061  6.53061224  6.73469388  6.93877551  7.14285714\n",
      "  7.34693878  7.55102041  7.75510204  7.95918367  8.16326531  8.36734694\n",
      "  8.57142857  8.7755102   8.97959184  9.18367347  9.3877551   9.59183673\n",
      "  9.79591837 10.        ]\n",
      "length of a 50\n",
      "[ 0.  5. 10.]\n",
      "length of b 3\n"
     ]
    }
   ],
   "source": [
    "a=n.linspace(0,10)\n",
    "print(a)\n",
    "print('length of a',len(a))\n",
    "## no. of values =3\n",
    "b=n.linspace(0,10,3)\n",
    "print(b)\n",
    "print('length of b',len(b))"
   ]
  },
  {
   "cell_type": "code",
   "execution_count": null,
   "id": "c31b39ad-6884-40e6-bd3e-713d1411475f",
   "metadata": {},
   "outputs": [],
   "source": []
  }
 ],
 "metadata": {
  "kernelspec": {
   "display_name": "Python 3 (ipykernel)",
   "language": "python",
   "name": "python3"
  },
  "language_info": {
   "codemirror_mode": {
    "name": "ipython",
    "version": 3
   },
   "file_extension": ".py",
   "mimetype": "text/x-python",
   "name": "python",
   "nbconvert_exporter": "python",
   "pygments_lexer": "ipython3",
   "version": "3.9.2"
  }
 },
 "nbformat": 4,
 "nbformat_minor": 5
}
