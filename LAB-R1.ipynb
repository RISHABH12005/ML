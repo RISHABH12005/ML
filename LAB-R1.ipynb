{
 "cells": [
  {
   "cell_type": "markdown",
   "id": "47cf20ee-de01-4f6c-b0c8-c9bc44e7c13f",
   "metadata": {},
   "source": [
    "Classify whether the digit is 5 or not"
   ]
  },
  {
   "cell_type": "code",
   "execution_count": 3,
   "id": "07e3e8ff-b4fa-4b44-b073-f7358bc60b47",
   "metadata": {},
   "outputs": [],
   "source": [
    "from sklearn.datasets import fetch_openml\n",
    "from sklearn.linear_model import SGDClassifier\n",
    "from sklearn.metrics import f1_score"
   ]
  },
  {
   "cell_type": "markdown",
   "id": "b763b5bf-9f87-45c6-9e53-b6bf6b82ddae",
   "metadata": {},
   "source": [
    "Load data"
   ]
  },
  {
   "cell_type": "code",
   "execution_count": 4,
   "id": "db87b7ef-15b3-4ba3-a52f-44bfe407f7cd",
   "metadata": {},
   "outputs": [],
   "source": [
    "mnist = fetch_openml(\"mnist_784\", as_frame=False)\n",
    "X, y = mnist.data, mnist.target.astype(int)"
   ]
  },
  {
   "cell_type": "markdown",
   "id": "42920380-941c-4b60-9d84-e77aa84207fa",
   "metadata": {},
   "source": [
    "Prepare data"
   ]
  },
  {
   "cell_type": "code",
   "execution_count": 6,
   "id": "b6f8edf2-cd94-4ce0-bc77-855fda61225f",
   "metadata": {},
   "outputs": [],
   "source": [
    "X_train, X_test = X[:60000], X[60000:]\n",
    "y_train, y_test = y[:60000], y[60000:]\n",
    "y_train_5 = (y_train == 5)\n",
    "y_test_5 = (y_test == 5)"
   ]
  },
  {
   "cell_type": "markdown",
   "id": "59f91b85-0075-40c6-8915-012fa4c470f1",
   "metadata": {},
   "source": [
    "Train and evaluate model"
   ]
  },
  {
   "cell_type": "code",
   "execution_count": 8,
   "id": "3bfe584b-82b6-4e8c-9441-a4a20888eade",
   "metadata": {},
   "outputs": [
    {
     "name": "stdout",
     "output_type": "stream",
     "text": [
      "F1 Score: 0.7555341674687199\n"
     ]
    }
   ],
   "source": [
    "model = SGDClassifier(random_state=42)\n",
    "model.fit(X_train, y_train_5)\n",
    "pred = model.predict(X_test)\n",
    "print(\"F1 Score:\", f1_score(y_test_5, pred))"
   ]
  },
  {
   "cell_type": "code",
   "execution_count": null,
   "id": "2111a3ed-87b8-48fb-b316-cf7b2ad5411c",
   "metadata": {},
   "outputs": [],
   "source": []
  }
 ],
 "metadata": {
  "kernelspec": {
   "display_name": "Python 3 (ipykernel)",
   "language": "python",
   "name": "python3"
  },
  "language_info": {
   "codemirror_mode": {
    "name": "ipython",
    "version": 3
   },
   "file_extension": ".py",
   "mimetype": "text/x-python",
   "name": "python",
   "nbconvert_exporter": "python",
   "pygments_lexer": "ipython3",
   "version": "3.9.2"
  }
 },
 "nbformat": 4,
 "nbformat_minor": 5
}
