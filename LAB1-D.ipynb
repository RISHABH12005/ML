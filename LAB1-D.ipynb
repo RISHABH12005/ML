{
 "cells": [
  {
   "cell_type": "code",
   "execution_count": 2,
   "id": "47d19386-11ac-4500-a341-b7b26236f789",
   "metadata": {},
   "outputs": [
    {
     "name": "stdout",
     "output_type": "stream",
     "text": [
      "Hello World\n"
     ]
    }
   ],
   "source": [
    "print(\"Hello World\")"
   ]
  },
  {
   "cell_type": "code",
   "execution_count": 3,
   "id": "9d6ba0a7-f51d-4627-8be4-2fb033969025",
   "metadata": {},
   "outputs": [
    {
     "data": {
      "text/plain": [
       "' Hello world '"
      ]
     },
     "execution_count": 3,
     "metadata": {},
     "output_type": "execute_result"
    }
   ],
   "source": [
    "\"\"\" Hello world \"\"\""
   ]
  },
  {
   "cell_type": "markdown",
   "id": "7ebd4500-c2d3-4448-b502-6f9ca2891b9f",
   "metadata": {},
   "source": [
    "###### Arry Demo"
   ]
  },
  {
   "cell_type": "code",
   "execution_count": 16,
   "id": "2766c854-54d0-4b74-b4d5-2fb711c618b6",
   "metadata": {},
   "outputs": [],
   "source": [
    "# Hello World"
   ]
  },
  {
   "cell_type": "markdown",
   "id": "4b193445-2fcc-4542-895a-e0db58a177ee",
   "metadata": {},
   "source": [
    "# hello world"
   ]
  },
  {
   "cell_type": "markdown",
   "id": "8ba8582d-309c-44af-b6cc-e56a096dc6bf",
   "metadata": {},
   "source": [
    "## Hello World"
   ]
  },
  {
   "cell_type": "markdown",
   "id": "7e90b8cc-aa7e-4b73-b043-70aafb9321b3",
   "metadata": {},
   "source": [
    "### hello world"
   ]
  },
  {
   "cell_type": "code",
   "execution_count": 11,
   "id": "67ea3352-89f0-4a8c-b392-d823e530e407",
   "metadata": {},
   "outputs": [],
   "source": [
    "import numpy"
   ]
  },
  {
   "cell_type": "code",
   "execution_count": 15,
   "id": "2c00eab3-99b7-41bb-88c6-aa599591354f",
   "metadata": {},
   "outputs": [],
   "source": [
    "arr=numpy.array([1,2,3,4,5])"
   ]
  },
  {
   "cell_type": "code",
   "execution_count": 17,
   "id": "4e474e44-4ffb-41ae-a876-cdd8929ef178",
   "metadata": {},
   "outputs": [
    {
     "data": {
      "text/plain": [
       "array([1, 2, 3, 4, 5])"
      ]
     },
     "execution_count": 17,
     "metadata": {},
     "output_type": "execute_result"
    }
   ],
   "source": [
    "arr"
   ]
  },
  {
   "cell_type": "code",
   "execution_count": 18,
   "id": "49653842-c25f-4743-9afb-bf5d018fde93",
   "metadata": {},
   "outputs": [
    {
     "data": {
      "text/plain": [
       "np.int64(1)"
      ]
     },
     "execution_count": 18,
     "metadata": {},
     "output_type": "execute_result"
    }
   ],
   "source": [
    "arr[0]"
   ]
  },
  {
   "cell_type": "code",
   "execution_count": 20,
   "id": "d60cd7be-e051-48e1-808c-e828627831c8",
   "metadata": {},
   "outputs": [
    {
     "name": "stdout",
     "output_type": "stream",
     "text": [
      "1\n"
     ]
    }
   ],
   "source": [
    "print(arr[0])"
   ]
  },
  {
   "cell_type": "code",
   "execution_count": 21,
   "id": "8002bf8d-ab53-4fec-b9d6-9ec014ea4cb2",
   "metadata": {},
   "outputs": [
    {
     "name": "stdout",
     "output_type": "stream",
     "text": [
      "[2 3 4]\n"
     ]
    }
   ],
   "source": [
    "print(arr[1:4])"
   ]
  },
  {
   "cell_type": "code",
   "execution_count": 22,
   "id": "a2a0cea6-32d9-45ae-84ce-5bec7149948f",
   "metadata": {},
   "outputs": [
    {
     "data": {
      "text/plain": [
       "dtype('int64')"
      ]
     },
     "execution_count": 22,
     "metadata": {},
     "output_type": "execute_result"
    }
   ],
   "source": [
    "arr.dtype"
   ]
  },
  {
   "cell_type": "code",
   "execution_count": null,
   "id": "0b1ca48c-2bae-4617-bc03-28d7cdb53bdb",
   "metadata": {},
   "outputs": [],
   "source": []
  }
 ],
 "metadata": {
  "kernelspec": {
   "display_name": "Python 3 (ipykernel)",
   "language": "python",
   "name": "python3"
  },
  "language_info": {
   "codemirror_mode": {
    "name": "ipython",
    "version": 3
   },
   "file_extension": ".py",
   "mimetype": "text/x-python",
   "name": "python",
   "nbconvert_exporter": "python",
   "pygments_lexer": "ipython3",
   "version": "3.10.11"
  }
 },
 "nbformat": 4,
 "nbformat_minor": 5
}
