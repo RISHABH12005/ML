{
 "cells": [
  {
   "cell_type": "code",
   "execution_count": 1,
   "id": "93ad5f67-31a2-470a-b0be-411ed8be088f",
   "metadata": {},
   "outputs": [],
   "source": [
    "import pandas as p"
   ]
  },
  {
   "cell_type": "code",
   "execution_count": 3,
   "id": "e08d3706-d3ac-45c6-a50d-571732b05004",
   "metadata": {},
   "outputs": [
    {
     "data": {
      "text/plain": [
       "0    1\n",
       "1    2\n",
       "2    3\n",
       "3    4\n",
       "4    5\n",
       "dtype: int64"
      ]
     },
     "execution_count": 3,
     "metadata": {},
     "output_type": "execute_result"
    }
   ],
   "source": [
    "p.Series([1,2,3,4,5])"
   ]
  },
  {
   "cell_type": "code",
   "execution_count": 5,
   "id": "0cd8af28-0c2f-49b7-869c-5ee5e1b86704",
   "metadata": {},
   "outputs": [
    {
     "data": {
      "text/plain": [
       "0    1\n",
       "1    2\n",
       "2    3\n",
       "3    4\n",
       "4    5\n",
       "dtype: int64"
      ]
     },
     "execution_count": 5,
     "metadata": {},
     "output_type": "execute_result"
    }
   ],
   "source": [
    "ser=p.Series([1,2,3,4,5])\n",
    "ser"
   ]
  },
  {
   "cell_type": "raw",
   "id": "fdd2403c-35b8-4e2b-8df2-307f443ab8ef",
   "metadata": {},
   "source": [
    "ser=0"
   ]
  },
  {
   "cell_type": "code",
   "execution_count": 7,
   "id": "02d535d5-b537-4a03-9cc2-867c99fd8528",
   "metadata": {},
   "outputs": [
    {
     "data": {
      "text/plain": [
       "0    10\n",
       "1    20\n",
       "2    30\n",
       "3    40\n",
       "dtype: int64"
      ]
     },
     "execution_count": 7,
     "metadata": {},
     "output_type": "execute_result"
    }
   ],
   "source": [
    "ser=p.Series([10,20,30,40])\n",
    "ser"
   ]
  },
  {
   "cell_type": "code",
   "execution_count": 11,
   "id": "27e51950-75b4-4f02-8325-d675c04b3710",
   "metadata": {},
   "outputs": [
    {
     "data": {
      "text/plain": [
       "0    10\n",
       "1    20\n",
       "2    30\n",
       "3    40\n",
       "4    50\n",
       "Name: marks in physics, dtype: int64"
      ]
     },
     "execution_count": 11,
     "metadata": {},
     "output_type": "execute_result"
    }
   ],
   "source": [
    "ser=p.Series([10,20,30,40,50],name='marks in physics')\n",
    "ser"
   ]
  },
  {
   "cell_type": "code",
   "execution_count": 12,
   "id": "4eac1f5b-94e5-4694-85a6-aececdc6c7dc",
   "metadata": {},
   "outputs": [
    {
     "data": {
      "text/plain": [
       "90    10\n",
       "80    20\n",
       "70    30\n",
       "60    40\n",
       "50    50\n",
       "Name: marks in physics, dtype: int64"
      ]
     },
     "execution_count": 12,
     "metadata": {},
     "output_type": "execute_result"
    }
   ],
   "source": [
    "ser=p.Series([10,20,30,40,50],name='marks in physics',index=[90,80,70,60,50])\n",
    "ser"
   ]
  },
  {
   "cell_type": "code",
   "execution_count": 16,
   "id": "00d17e54-af5d-41cb-b772-ed6b93eaf044",
   "metadata": {},
   "outputs": [
    {
     "data": {
      "text/plain": [
       "np.int64(30)"
      ]
     },
     "execution_count": 16,
     "metadata": {},
     "output_type": "execute_result"
    }
   ],
   "source": [
    "ser.loc[70]"
   ]
  },
  {
   "cell_type": "code",
   "execution_count": 17,
   "id": "eded9d5e-c844-4858-83b8-f0bb1d1156c6",
   "metadata": {},
   "outputs": [
    {
     "data": {
      "text/plain": [
       "np.int64(30)"
      ]
     },
     "execution_count": 17,
     "metadata": {},
     "output_type": "execute_result"
    }
   ],
   "source": [
    "ser.iloc[2]"
   ]
  },
  {
   "cell_type": "code",
   "execution_count": 20,
   "id": "eea9be80-098c-4edd-a910-778d5945435a",
   "metadata": {},
   "outputs": [
    {
     "data": {
      "text/plain": [
       "80    20\n",
       "70    30\n",
       "60    40\n",
       "Name: marks in physics, dtype: int64"
      ]
     },
     "execution_count": 20,
     "metadata": {},
     "output_type": "execute_result"
    }
   ],
   "source": [
    "ser.loc[80:60]"
   ]
  },
  {
   "cell_type": "code",
   "execution_count": 21,
   "id": "ef9c5db0-36a6-4132-91c6-472256ea6213",
   "metadata": {},
   "outputs": [
    {
     "data": {
      "text/plain": [
       "Series([], Name: marks in physics, dtype: int64)"
      ]
     },
     "execution_count": 21,
     "metadata": {},
     "output_type": "execute_result"
    }
   ],
   "source": [
    "ser.iloc[80:60]"
   ]
  },
  {
   "cell_type": "code",
   "execution_count": 22,
   "id": "97caa830-d406-42f7-a92b-2823d24e414d",
   "metadata": {},
   "outputs": [
    {
     "data": {
      "text/plain": [
       "np.float64(30.0)"
      ]
     },
     "execution_count": 22,
     "metadata": {},
     "output_type": "execute_result"
    }
   ],
   "source": [
    "ser.mean()"
   ]
  },
  {
   "cell_type": "code",
   "execution_count": 23,
   "id": "e6e5d90b-661e-4ef4-8be9-0d0294e4afca",
   "metadata": {},
   "outputs": [
    {
     "data": {
      "text/plain": [
       "np.int64(10)"
      ]
     },
     "execution_count": 23,
     "metadata": {},
     "output_type": "execute_result"
    }
   ],
   "source": [
    "ser.min()"
   ]
  },
  {
   "cell_type": "code",
   "execution_count": 25,
   "id": "a9eecc33-4b52-473d-a39f-6c3688d19f0d",
   "metadata": {},
   "outputs": [
    {
     "data": {
      "text/plain": [
       "np.int64(50)"
      ]
     },
     "execution_count": 25,
     "metadata": {},
     "output_type": "execute_result"
    }
   ],
   "source": [
    "ser.max()"
   ]
  },
  {
   "cell_type": "code",
   "execution_count": 26,
   "id": "1cc58f57-eb96-4c99-9c9f-5b451a2876c4",
   "metadata": {},
   "outputs": [
    {
     "data": {
      "text/plain": [
       "np.float64(30.0)"
      ]
     },
     "execution_count": 26,
     "metadata": {},
     "output_type": "execute_result"
    }
   ],
   "source": [
    "ser.median()"
   ]
  },
  {
   "cell_type": "code",
   "execution_count": 27,
   "id": "d40b9a0b-89f4-4bc9-820d-7058a04a4963",
   "metadata": {},
   "outputs": [
    {
     "data": {
      "text/plain": [
       "np.int64(0)"
      ]
     },
     "execution_count": 27,
     "metadata": {},
     "output_type": "execute_result"
    }
   ],
   "source": [
    "ser.argmin()"
   ]
  },
  {
   "cell_type": "code",
   "execution_count": 28,
   "id": "fa19f8ff-c318-4133-a952-052f62292133",
   "metadata": {},
   "outputs": [
    {
     "data": {
      "text/plain": [
       "np.int64(4)"
      ]
     },
     "execution_count": 28,
     "metadata": {},
     "output_type": "execute_result"
    }
   ],
   "source": [
    "ser.argmax()"
   ]
  },
  {
   "cell_type": "code",
   "execution_count": 30,
   "id": "e04827c6-e36a-4166-b71a-48d82f59f101",
   "metadata": {},
   "outputs": [
    {
     "data": {
      "text/plain": [
       "np.float64(15.811388300841896)"
      ]
     },
     "execution_count": 30,
     "metadata": {},
     "output_type": "execute_result"
    }
   ],
   "source": [
    "ser.std()"
   ]
  },
  {
   "cell_type": "code",
   "execution_count": 31,
   "id": "716085df-8b00-4d20-903e-a7cc5e1b141f",
   "metadata": {},
   "outputs": [
    {
     "data": {
      "text/plain": [
       "np.float64(250.0)"
      ]
     },
     "execution_count": 31,
     "metadata": {},
     "output_type": "execute_result"
    }
   ],
   "source": [
    "ser.var()"
   ]
  },
  {
   "cell_type": "code",
   "execution_count": 32,
   "id": "a781a58a-469d-4226-949f-6176d55d3655",
   "metadata": {},
   "outputs": [
    {
     "data": {
      "text/plain": [
       "90     True\n",
       "80     True\n",
       "70    False\n",
       "60    False\n",
       "50    False\n",
       "Name: marks in physics, dtype: bool"
      ]
     },
     "execution_count": 32,
     "metadata": {},
     "output_type": "execute_result"
    }
   ],
   "source": [
    "ser<ser.mean()"
   ]
  },
  {
   "cell_type": "code",
   "execution_count": 33,
   "id": "fdf60560-9c05-495a-9fcb-bee91c6ba0c1",
   "metadata": {},
   "outputs": [
    {
     "data": {
      "text/plain": [
       "90    10\n",
       "80    20\n",
       "Name: marks in physics, dtype: int64"
      ]
     },
     "execution_count": 33,
     "metadata": {},
     "output_type": "execute_result"
    }
   ],
   "source": [
    "ser[ser<ser.mean()]"
   ]
  },
  {
   "cell_type": "code",
   "execution_count": 34,
   "id": "3b9b6c0e-eb90-42e8-99be-1eaa0a2cd1cb",
   "metadata": {},
   "outputs": [
    {
     "data": {
      "text/plain": [
       "90    False\n",
       "80    False\n",
       "70    False\n",
       "60     True\n",
       "50     True\n",
       "Name: marks in physics, dtype: bool"
      ]
     },
     "execution_count": 34,
     "metadata": {},
     "output_type": "execute_result"
    }
   ],
   "source": [
    "ser>ser.mean()"
   ]
  },
  {
   "cell_type": "code",
   "execution_count": 36,
   "id": "b8ad5ce7-2520-46a3-9c61-902bfeaba611",
   "metadata": {},
   "outputs": [
    {
     "data": {
      "text/plain": [
       "60    40\n",
       "50    50\n",
       "Name: marks in physics, dtype: int64"
      ]
     },
     "execution_count": 36,
     "metadata": {},
     "output_type": "execute_result"
    }
   ],
   "source": [
    "ser[ser>ser.mean(0)]"
   ]
  },
  {
   "cell_type": "code",
   "execution_count": 38,
   "id": "ff0e1e92-9b37-4f1c-9e40-968e6ecd769f",
   "metadata": {},
   "outputs": [
    {
     "data": {
      "text/plain": [
       "Index([90, 80], dtype='int64')"
      ]
     },
     "execution_count": 38,
     "metadata": {},
     "output_type": "execute_result"
    }
   ],
   "source": [
    "ser[ser<ser.mean()].index"
   ]
  },
  {
   "cell_type": "code",
   "execution_count": 39,
   "id": "6035c456-15bc-412a-9fe5-ac6142da7c39",
   "metadata": {},
   "outputs": [
    {
     "data": {
      "text/plain": [
       "Index([60, 50], dtype='int64')"
      ]
     },
     "execution_count": 39,
     "metadata": {},
     "output_type": "execute_result"
    }
   ],
   "source": [
    "ser[ser>ser.mean()].index"
   ]
  },
  {
   "cell_type": "code",
   "execution_count": 41,
   "id": "83254c21-478d-40bd-93f7-ce51a9c13706",
   "metadata": {},
   "outputs": [
    {
     "data": {
      "text/plain": [
       "<bound method NDFrame.describe of 90    10\n",
       "80    20\n",
       "70    30\n",
       "60    40\n",
       "50    50\n",
       "Name: marks in physics, dtype: int64>"
      ]
     },
     "execution_count": 41,
     "metadata": {},
     "output_type": "execute_result"
    }
   ],
   "source": [
    "ser.describe"
   ]
  },
  {
   "cell_type": "code",
   "execution_count": 43,
   "id": "0b1426ca-7e6a-4402-a29e-e65b594a7751",
   "metadata": {},
   "outputs": [
    {
     "data": {
      "text/plain": [
       "count     5.000000\n",
       "mean     30.000000\n",
       "std      15.811388\n",
       "min      10.000000\n",
       "25%      20.000000\n",
       "50%      30.000000\n",
       "75%      40.000000\n",
       "max      50.000000\n",
       "Name: marks in physics, dtype: float64"
      ]
     },
     "execution_count": 43,
     "metadata": {},
     "output_type": "execute_result"
    }
   ],
   "source": [
    "ser.describe()"
   ]
  }
 ],
 "metadata": {
  "kernelspec": {
   "display_name": "Python 3 (ipykernel)",
   "language": "python",
   "name": "python3"
  },
  "language_info": {
   "codemirror_mode": {
    "name": "ipython",
    "version": 3
   },
   "file_extension": ".py",
   "mimetype": "text/x-python",
   "name": "python",
   "nbconvert_exporter": "python",
   "pygments_lexer": "ipython3",
   "version": "3.10.11"
  }
 },
 "nbformat": 4,
 "nbformat_minor": 5
}
